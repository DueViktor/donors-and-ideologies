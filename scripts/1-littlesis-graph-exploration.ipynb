{
 "cells": [
  {
   "cell_type": "code",
   "execution_count": 7,
   "metadata": {},
   "outputs": [],
   "source": [
    "import networkx as nx\n",
    "from pathlib import Path\n",
    "from utils import read_json\n",
    "import pickle"
   ]
  },
  {
   "cell_type": "markdown",
   "metadata": {},
   "source": [
    "# Load jsons"
   ]
  },
  {
   "cell_type": "code",
   "execution_count": 2,
   "metadata": {},
   "outputs": [],
   "source": [
    "entities = read_json(Path(\"../data/littlesis-entities.json\"))\n",
    "relationships = read_json(Path(\"../data/littlesis-relationships.json\"))"
   ]
  },
  {
   "cell_type": "markdown",
   "metadata": {},
   "source": [
    "# Helper functions"
   ]
  },
  {
   "cell_type": "code",
   "execution_count": 3,
   "metadata": {},
   "outputs": [],
   "source": [
    "def print_graph_info(G: nx.Graph):\n",
    "    print(\"Number of nodes: \", G.number_of_nodes())\n",
    "    print(\"Number of edges: \", G.number_of_edges())\n",
    "    print()\n",
    "    print(\"Number of connected components: \", nx.number_connected_components(G))\n",
    "    connected_components = sorted(nx.connected_components(G), key=len, reverse=True)\n",
    "    three_largest_components = connected_components[0:3]\n",
    "    for i, component in enumerate(three_largest_components):\n",
    "        print(\n",
    "            f\"{i+1}. Size of the connected component: {(len(component)/G.number_of_nodes())*100:.2f}%\"\n",
    "        )\n",
    "\n",
    "    print()\n",
    "\n",
    "    # top five nodes based on pagerank\n",
    "    pr = nx.pagerank(G)\n",
    "    top_ten_pagerank = sorted(pr, key=pr.get, reverse=True)[:10]\n",
    "    print(\"Top 10 nodes based on pagerank:\")\n",
    "    for i, node in enumerate(top_ten_pagerank):\n",
    "        print(\n",
    "            f\"#{i+1}\\t: nodeid ({node}), pagerank ({pr[node]:.6f}) -> {G.nodes[node]['name']} ({G.nodes[node]['primary_ext']})\"\n",
    "        )"
   ]
  },
  {
   "cell_type": "markdown",
   "metadata": {},
   "source": [
    "# Original littlesis graph"
   ]
  },
  {
   "cell_type": "code",
   "execution_count": 4,
   "metadata": {},
   "outputs": [],
   "source": [
    "# Build the graph with all entities and relationships\n",
    "G = nx.Graph()\n",
    "for entity in entities:\n",
    "    G.add_node(\n",
    "        entity[\"id\"],\n",
    "        id=entity[\"attributes\"][\"id\"],\n",
    "        name=entity[\"attributes\"][\"name\"],\n",
    "        primary_ext=entity[\"attributes\"][\"primary_ext\"],\n",
    "    )\n",
    "for relationship in relationships:\n",
    "    G.add_edge(\n",
    "        relationship[\"attributes\"][\"entity1_id\"],\n",
    "        relationship[\"attributes\"][\"entity2_id\"],\n",
    "        category_id=relationship[\"attributes\"][\"category_id\"],\n",
    "        amount=relationship[\"attributes\"][\"amount\"],\n",
    "    )"
   ]
  },
  {
   "cell_type": "code",
   "execution_count": 5,
   "metadata": {},
   "outputs": [
    {
     "name": "stdout",
     "output_type": "stream",
     "text": [
      "Graph with all entities and relationships:\n",
      "Number of nodes:  413057\n",
      "Number of edges:  1685094\n",
      "\n",
      "Number of connected components:  51414\n",
      "1. Size of the connected component: 85.83%\n",
      "2. Size of the connected component: 0.02%\n",
      "3. Size of the connected component: 0.02%\n",
      "\n",
      "Top 10 nodes based on pagerank:\n",
      "#1\t: nodeid (13503), pagerank (0.002785) -> Barack Obama (Person)\n",
      "#2\t: nodeid (28862), pagerank (0.001540) -> Democratic National Committee (Org)\n",
      "#3\t: nodeid (13191), pagerank (0.001480) -> Hillary Clinton (Person)\n",
      "#4\t: nodeid (34136), pagerank (0.001431) -> Mitt Romney (Person)\n",
      "#5\t: nodeid (28776), pagerank (0.001403) -> George W Bush (Person)\n",
      "#6\t: nodeid (28778), pagerank (0.001264) -> Republican National Committee (Org)\n",
      "#7\t: nodeid (13377), pagerank (0.001216) -> John Kerry (Person)\n",
      "#8\t: nodeid (13443), pagerank (0.001096) -> John S. McCain III (Person)\n",
      "#9\t: nodeid (88818), pagerank (0.000956) -> Eni SpA (Org)\n",
      "#10\t: nodeid (12884), pagerank (0.000879) -> US House of Representatives (Org)\n"
     ]
    }
   ],
   "source": [
    "print(\"Graph with all entities and relationships:\")\n",
    "print_graph_info(G)"
   ]
  },
  {
   "cell_type": "markdown",
   "metadata": {},
   "source": [
    "# Only inspecting the biggest connected component"
   ]
  },
  {
   "cell_type": "code",
   "execution_count": 6,
   "metadata": {},
   "outputs": [
    {
     "name": "stdout",
     "output_type": "stream",
     "text": [
      "Created the full graph that has the following information:\n",
      "Number of nodes:  354538\n",
      "Number of edges:  1677720\n",
      "\n",
      "Number of connected components:  1\n",
      "1. Size of the connected component: 100.00%\n",
      "\n",
      "Top 10 nodes based on pagerank:\n",
      "#1\t: nodeid (13503), pagerank (0.004063) -> Barack Obama (Person)\n",
      "#2\t: nodeid (88818), pagerank (0.002455) -> Eni SpA (Org)\n",
      "#3\t: nodeid (28862), pagerank (0.002351) -> Democratic National Committee (Org)\n",
      "#4\t: nodeid (13191), pagerank (0.002178) -> Hillary Clinton (Person)\n",
      "#5\t: nodeid (34136), pagerank (0.002136) -> Mitt Romney (Person)\n",
      "#6\t: nodeid (28776), pagerank (0.002134) -> George W Bush (Person)\n",
      "#7\t: nodeid (28778), pagerank (0.001885) -> Republican National Committee (Org)\n",
      "#8\t: nodeid (13377), pagerank (0.001865) -> John Kerry (Person)\n",
      "#9\t: nodeid (13443), pagerank (0.001673) -> John S. McCain III (Person)\n",
      "#10\t: nodeid (28856), pagerank (0.001297) -> Democratic Senatorial Campaign Committee (Org)\n"
     ]
    }
   ],
   "source": [
    "# Create a subgrah with the largest connected component\n",
    "connected_components = sorted(nx.connected_components(G), key=len, reverse=True)\n",
    "largest_component: set = connected_components[0]\n",
    "G_largest = G.subgraph(largest_component)\n",
    "print(\"Created the full graph that has the following information:\")\n",
    "print_graph_info(G_largest)"
   ]
  },
  {
   "cell_type": "markdown",
   "metadata": {},
   "source": [
    "# Save the largest connected component as a pickle"
   ]
  },
  {
   "cell_type": "code",
   "execution_count": 8,
   "metadata": {},
   "outputs": [],
   "source": [
    "pickle.dump(G_largest, open(\"../data/littlesis-largest-component.pickle\", \"wb\"))"
   ]
  }
 ],
 "metadata": {
  "kernelspec": {
   "display_name": ".venv",
   "language": "python",
   "name": "python3"
  },
  "language_info": {
   "codemirror_mode": {
    "name": "ipython",
    "version": 3
   },
   "file_extension": ".py",
   "mimetype": "text/x-python",
   "name": "python",
   "nbconvert_exporter": "python",
   "pygments_lexer": "ipython3",
   "version": "3.11.6"
  }
 },
 "nbformat": 4,
 "nbformat_minor": 2
}
